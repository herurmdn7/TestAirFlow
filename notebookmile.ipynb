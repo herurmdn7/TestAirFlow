{
 "cells": [
  {
   "cell_type": "code",
   "execution_count": 6,
   "metadata": {},
   "outputs": [],
   "source": [
    "import pandas as pd"
   ]
  },
  {
   "cell_type": "code",
   "execution_count": null,
   "metadata": {},
   "outputs": [],
   "source": [
    "def preprocessing(): \n",
    "    ''' fungsi untuk membersihkan data\n",
    "    \n",
    "    '''\n",
    "    # pembisihan data\n",
    "    data = pd.read_csv(\"E:\\HCK18\\Milestone 3\\p2-ftds018-hck-m3-herurmdn7\\P2M3_Heru_data_raw_testtest.csv\")\n",
    "\n",
    "    # bersihkan data \n",
    "    data.drop_duplicates(inplace=True)"
   ]
  },
  {
   "cell_type": "code",
   "execution_count": 1,
   "metadata": {},
   "outputs": [],
   "source": [
    "def preprocessing(): \n",
    "    ''' Function to clean data '''\n",
    "    \n",
    "    # Load the data\n",
    "    data = pd.read_csv(\"E:\\HCK18\\Milestone 3\\p2-ftds018-hck-m3-herurmdn7\\P2M3_Heru_data_raw_testtest.csv\")\n",
    "\n",
    "    # Drop duplicates\n",
    "    data.drop_duplicates(inplace=True)\n",
    "\n",
    "    # Clean column names: lowercase, replace spaces with underscores, remove unnecessary characters\n",
    "    data.columns = data.columns.str.lower().str.replace(' ', '_').str.replace(r'[^a-zA-Z0-9_]', '')\n",
    "\n",
    "    # Drop rows with missing values\n",
    "    data.dropna(inplace=True)\\\n",
    "    \n",
    "    data.to_csv('E:\\HCK18\\Milestone 3\\p2-ftds018-hck-m3-herurmdn7\\P2M3_Heru_data_raw_testtest_clean1.csv', index=False)\n"
   ]
  },
  {
   "cell_type": "code",
   "execution_count": 7,
   "metadata": {},
   "outputs": [],
   "source": [
    "preprocessing()"
   ]
  }
 ],
 "metadata": {
  "kernelspec": {
   "display_name": "docker",
   "language": "python",
   "name": "python3"
  },
  "language_info": {
   "codemirror_mode": {
    "name": "ipython",
    "version": 3
   },
   "file_extension": ".py",
   "mimetype": "text/x-python",
   "name": "python",
   "nbconvert_exporter": "python",
   "pygments_lexer": "ipython3",
   "version": "3.11.9"
  }
 },
 "nbformat": 4,
 "nbformat_minor": 2
}
