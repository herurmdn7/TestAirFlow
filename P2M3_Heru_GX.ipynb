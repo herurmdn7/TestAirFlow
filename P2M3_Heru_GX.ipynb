{
 "cells": [
  {
   "cell_type": "markdown",
   "metadata": {},
   "source": [
    "# Data Context"
   ]
  },
  {
   "cell_type": "code",
   "execution_count": 1,
   "metadata": {},
   "outputs": [],
   "source": [
    "# Create a data context\n",
    "\n",
    "from great_expectations.data_context import FileDataContext\n",
    "\n",
    "context = FileDataContext.create(project_root_dir='./')"
   ]
  },
  {
   "cell_type": "markdown",
   "metadata": {},
   "source": [
    "# Connect to A `Datasource`"
   ]
  },
  {
   "cell_type": "code",
   "execution_count": 2,
   "metadata": {},
   "outputs": [],
   "source": [
    "# Give a name to a Datasource. This name must be unique between Datasources.\n",
    "datasource_name = 'csv-dairy-data'\n",
    "datasource = context.sources.add_pandas(datasource_name)\n",
    "\n",
    "# Give a name to a data asset\n",
    "asset_name = 'dairy-data'\n",
    "path_to_data = 'dags/P2M3_Heru_data_clean.csv'\n",
    "asset = datasource.add_csv_asset(asset_name, filepath_or_buffer=path_to_data)\n",
    "\n",
    "# Build batch request\n",
    "batch_request = asset.build_batch_request()"
   ]
  },
  {
   "cell_type": "markdown",
   "metadata": {},
   "source": [
    "# Create an Expectation Suite"
   ]
  },
  {
   "cell_type": "code",
   "execution_count": 4,
   "metadata": {},
   "outputs": [
    {
     "data": {
      "application/vnd.jupyter.widget-view+json": {
       "model_id": "60df4fe082e14c538c97b974e6b36468",
       "version_major": 2,
       "version_minor": 0
      },
      "text/plain": [
       "Calculating Metrics:   0%|          | 0/1 [00:00<?, ?it/s]"
      ]
     },
     "metadata": {},
     "output_type": "display_data"
    },
    {
     "data": {
      "text/html": [
       "<div>\n",
       "<style scoped>\n",
       "    .dataframe tbody tr th:only-of-type {\n",
       "        vertical-align: middle;\n",
       "    }\n",
       "\n",
       "    .dataframe tbody tr th {\n",
       "        vertical-align: top;\n",
       "    }\n",
       "\n",
       "    .dataframe thead th {\n",
       "        text-align: right;\n",
       "    }\n",
       "</style>\n",
       "<table border=\"1\" class=\"dataframe\">\n",
       "  <thead>\n",
       "    <tr style=\"text-align: right;\">\n",
       "      <th></th>\n",
       "      <th>location</th>\n",
       "      <th>total_land_area_(acres)</th>\n",
       "      <th>number_of_cows</th>\n",
       "      <th>farm_size</th>\n",
       "      <th>date</th>\n",
       "      <th>product_id</th>\n",
       "      <th>product_name</th>\n",
       "      <th>brand</th>\n",
       "      <th>quantity_(liters/kg)</th>\n",
       "      <th>price_per_unit</th>\n",
       "      <th>...</th>\n",
       "      <th>quantity_sold_(liters/kg)</th>\n",
       "      <th>price_per_unit_(sold)</th>\n",
       "      <th>approx._total_revenue(inr)</th>\n",
       "      <th>customer_location</th>\n",
       "      <th>sales_channel</th>\n",
       "      <th>quantity_in_stock_(liters/kg)</th>\n",
       "      <th>minimum_stock_threshold_(liters/kg)</th>\n",
       "      <th>reorder_quantity_(liters/kg)</th>\n",
       "      <th>id</th>\n",
       "      <th>location_code</th>\n",
       "    </tr>\n",
       "  </thead>\n",
       "  <tbody>\n",
       "    <tr>\n",
       "      <th>0</th>\n",
       "      <td>Telangana</td>\n",
       "      <td>310.84</td>\n",
       "      <td>96</td>\n",
       "      <td>Medium</td>\n",
       "      <td>2022-02-17</td>\n",
       "      <td>5</td>\n",
       "      <td>Ice Cream</td>\n",
       "      <td>Dodla Dairy</td>\n",
       "      <td>222.40</td>\n",
       "      <td>85.72</td>\n",
       "      <td>...</td>\n",
       "      <td>7</td>\n",
       "      <td>82.24</td>\n",
       "      <td>575.68</td>\n",
       "      <td>Madhya Pradesh</td>\n",
       "      <td>Wholesale</td>\n",
       "      <td>215</td>\n",
       "      <td>19.55</td>\n",
       "      <td>64.03</td>\n",
       "      <td>1</td>\n",
       "      <td>IN-TG</td>\n",
       "    </tr>\n",
       "    <tr>\n",
       "      <th>1</th>\n",
       "      <td>Uttar Pradesh</td>\n",
       "      <td>19.19</td>\n",
       "      <td>44</td>\n",
       "      <td>Large</td>\n",
       "      <td>2021-12-01</td>\n",
       "      <td>1</td>\n",
       "      <td>Milk</td>\n",
       "      <td>Amul</td>\n",
       "      <td>687.48</td>\n",
       "      <td>42.61</td>\n",
       "      <td>...</td>\n",
       "      <td>558</td>\n",
       "      <td>39.24</td>\n",
       "      <td>21895.92</td>\n",
       "      <td>Kerala</td>\n",
       "      <td>Wholesale</td>\n",
       "      <td>129</td>\n",
       "      <td>43.17</td>\n",
       "      <td>181.10</td>\n",
       "      <td>2</td>\n",
       "      <td>IN-UP</td>\n",
       "    </tr>\n",
       "    <tr>\n",
       "      <th>2</th>\n",
       "      <td>Tamil Nadu</td>\n",
       "      <td>581.69</td>\n",
       "      <td>24</td>\n",
       "      <td>Medium</td>\n",
       "      <td>2022-02-28</td>\n",
       "      <td>4</td>\n",
       "      <td>Yogurt</td>\n",
       "      <td>Dodla Dairy</td>\n",
       "      <td>503.48</td>\n",
       "      <td>36.50</td>\n",
       "      <td>...</td>\n",
       "      <td>256</td>\n",
       "      <td>33.81</td>\n",
       "      <td>8655.36</td>\n",
       "      <td>Madhya Pradesh</td>\n",
       "      <td>Online</td>\n",
       "      <td>247</td>\n",
       "      <td>15.10</td>\n",
       "      <td>140.83</td>\n",
       "      <td>3</td>\n",
       "      <td>IN-TN</td>\n",
       "    </tr>\n",
       "    <tr>\n",
       "      <th>3</th>\n",
       "      <td>Telangana</td>\n",
       "      <td>908.00</td>\n",
       "      <td>89</td>\n",
       "      <td>Small</td>\n",
       "      <td>2019-06-09</td>\n",
       "      <td>3</td>\n",
       "      <td>Cheese</td>\n",
       "      <td>Britannia Industries</td>\n",
       "      <td>823.36</td>\n",
       "      <td>26.52</td>\n",
       "      <td>...</td>\n",
       "      <td>601</td>\n",
       "      <td>28.92</td>\n",
       "      <td>17380.92</td>\n",
       "      <td>Rajasthan</td>\n",
       "      <td>Online</td>\n",
       "      <td>222</td>\n",
       "      <td>74.50</td>\n",
       "      <td>57.68</td>\n",
       "      <td>4</td>\n",
       "      <td>IN-TG</td>\n",
       "    </tr>\n",
       "    <tr>\n",
       "      <th>4</th>\n",
       "      <td>Maharashtra</td>\n",
       "      <td>861.95</td>\n",
       "      <td>21</td>\n",
       "      <td>Medium</td>\n",
       "      <td>2020-12-14</td>\n",
       "      <td>8</td>\n",
       "      <td>Buttermilk</td>\n",
       "      <td>Mother Dairy</td>\n",
       "      <td>147.77</td>\n",
       "      <td>83.85</td>\n",
       "      <td>...</td>\n",
       "      <td>145</td>\n",
       "      <td>83.07</td>\n",
       "      <td>12045.15</td>\n",
       "      <td>Jharkhand</td>\n",
       "      <td>Retail</td>\n",
       "      <td>2</td>\n",
       "      <td>76.02</td>\n",
       "      <td>33.40</td>\n",
       "      <td>5</td>\n",
       "      <td>IN-MH</td>\n",
       "    </tr>\n",
       "  </tbody>\n",
       "</table>\n",
       "<p>5 rows × 25 columns</p>\n",
       "</div>"
      ],
      "text/plain": [
       "        location  total_land_area_(acres)  number_of_cows farm_size  \\\n",
       "0      Telangana                   310.84              96    Medium   \n",
       "1  Uttar Pradesh                    19.19              44     Large   \n",
       "2     Tamil Nadu                   581.69              24    Medium   \n",
       "3      Telangana                   908.00              89     Small   \n",
       "4    Maharashtra                   861.95              21    Medium   \n",
       "\n",
       "         date  product_id product_name                 brand  \\\n",
       "0  2022-02-17           5    Ice Cream           Dodla Dairy   \n",
       "1  2021-12-01           1         Milk                  Amul   \n",
       "2  2022-02-28           4       Yogurt           Dodla Dairy   \n",
       "3  2019-06-09           3       Cheese  Britannia Industries   \n",
       "4  2020-12-14           8   Buttermilk          Mother Dairy   \n",
       "\n",
       "   quantity_(liters/kg)  price_per_unit  ...  quantity_sold_(liters/kg)  \\\n",
       "0                222.40           85.72  ...                          7   \n",
       "1                687.48           42.61  ...                        558   \n",
       "2                503.48           36.50  ...                        256   \n",
       "3                823.36           26.52  ...                        601   \n",
       "4                147.77           83.85  ...                        145   \n",
       "\n",
       "   price_per_unit_(sold) approx._total_revenue(inr) customer_location  \\\n",
       "0                  82.24                     575.68    Madhya Pradesh   \n",
       "1                  39.24                   21895.92            Kerala   \n",
       "2                  33.81                    8655.36    Madhya Pradesh   \n",
       "3                  28.92                   17380.92         Rajasthan   \n",
       "4                  83.07                   12045.15         Jharkhand   \n",
       "\n",
       "  sales_channel  quantity_in_stock_(liters/kg)  \\\n",
       "0     Wholesale                            215   \n",
       "1     Wholesale                            129   \n",
       "2        Online                            247   \n",
       "3        Online                            222   \n",
       "4        Retail                              2   \n",
       "\n",
       "   minimum_stock_threshold_(liters/kg)  reorder_quantity_(liters/kg) id  \\\n",
       "0                                19.55                         64.03  1   \n",
       "1                                43.17                        181.10  2   \n",
       "2                                15.10                        140.83  3   \n",
       "3                                74.50                         57.68  4   \n",
       "4                                76.02                         33.40  5   \n",
       "\n",
       "  location_code  \n",
       "0         IN-TG  \n",
       "1         IN-UP  \n",
       "2         IN-TN  \n",
       "3         IN-TG  \n",
       "4         IN-MH  \n",
       "\n",
       "[5 rows x 25 columns]"
      ]
     },
     "execution_count": 4,
     "metadata": {},
     "output_type": "execute_result"
    }
   ],
   "source": [
    "# Creat an expectation suite\n",
    "expectation_suite_name = 'expectation-dairy-dataset'\n",
    "context.add_or_update_expectation_suite(expectation_suite_name)\n",
    "\n",
    "# Create a validator using above expectation suite\n",
    "validator = context.get_validator(\n",
    "    batch_request = batch_request,\n",
    "    expectation_suite_name = expectation_suite_name\n",
    ")\n",
    "\n",
    "# Check the validator\n",
    "validator.head()"
   ]
  },
  {
   "cell_type": "markdown",
   "metadata": {},
   "source": [
    "## Expectations"
   ]
  },
  {
   "cell_type": "markdown",
   "metadata": {},
   "source": [
    "### Expectations Not to be Empty"
   ]
  },
  {
   "cell_type": "code",
   "execution_count": 5,
   "metadata": {},
   "outputs": [
    {
     "data": {
      "application/vnd.jupyter.widget-view+json": {
       "model_id": "974b0ecc446548bb99acf3ea6d57ef08",
       "version_major": 2,
       "version_minor": 0
      },
      "text/plain": [
       "Calculating Metrics:   0%|          | 0/6 [00:00<?, ?it/s]"
      ]
     },
     "metadata": {},
     "output_type": "display_data"
    },
    {
     "data": {
      "text/plain": [
       "{\n",
       "  \"success\": true,\n",
       "  \"result\": {\n",
       "    \"element_count\": 4325,\n",
       "    \"unexpected_count\": 0,\n",
       "    \"unexpected_percent\": 0.0,\n",
       "    \"partial_unexpected_list\": []\n",
       "  },\n",
       "  \"meta\": {},\n",
       "  \"exception_info\": {\n",
       "    \"raised_exception\": false,\n",
       "    \"exception_traceback\": null,\n",
       "    \"exception_message\": null\n",
       "  }\n",
       "}"
      ]
     },
     "execution_count": 5,
     "metadata": {},
     "output_type": "execute_result"
    }
   ],
   "source": [
    "# Expectation 1 : Column `approx._total_revenue(inr)` can not contain missing values\n",
    "\n",
    "validator.expect_column_values_to_not_be_null('approx._total_revenue(inr)')"
   ]
  },
  {
   "cell_type": "markdown",
   "metadata": {},
   "source": [
    "### Expectations to be Unique"
   ]
  },
  {
   "cell_type": "code",
   "execution_count": 6,
   "metadata": {},
   "outputs": [
    {
     "data": {
      "application/vnd.jupyter.widget-view+json": {
       "model_id": "3889b29a6d4b4decb824e16260638cb5",
       "version_major": 2,
       "version_minor": 0
      },
      "text/plain": [
       "Calculating Metrics:   0%|          | 0/8 [00:00<?, ?it/s]"
      ]
     },
     "metadata": {},
     "output_type": "display_data"
    },
    {
     "data": {
      "text/plain": [
       "{\n",
       "  \"success\": true,\n",
       "  \"result\": {\n",
       "    \"element_count\": 4325,\n",
       "    \"unexpected_count\": 0,\n",
       "    \"unexpected_percent\": 0.0,\n",
       "    \"partial_unexpected_list\": [],\n",
       "    \"missing_count\": 0,\n",
       "    \"missing_percent\": 0.0,\n",
       "    \"unexpected_percent_total\": 0.0,\n",
       "    \"unexpected_percent_nonmissing\": 0.0\n",
       "  },\n",
       "  \"meta\": {},\n",
       "  \"exception_info\": {\n",
       "    \"raised_exception\": false,\n",
       "    \"exception_traceback\": null,\n",
       "    \"exception_message\": null\n",
       "  }\n",
       "}"
      ]
     },
     "execution_count": 6,
     "metadata": {},
     "output_type": "execute_result"
    }
   ],
   "source": [
    "# Expectation 2 : Column `id` must be unique\n",
    "\n",
    "validator.expect_column_values_to_be_unique('id')"
   ]
  },
  {
   "cell_type": "markdown",
   "metadata": {},
   "source": [
    "### Expectations to be in Between"
   ]
  },
  {
   "cell_type": "code",
   "execution_count": 10,
   "metadata": {},
   "outputs": [
    {
     "data": {
      "application/vnd.jupyter.widget-view+json": {
       "model_id": "8a0c911a7b7e48799b750e569d3f02db",
       "version_major": 2,
       "version_minor": 0
      },
      "text/plain": [
       "Calculating Metrics:   0%|          | 0/8 [00:00<?, ?it/s]"
      ]
     },
     "metadata": {},
     "output_type": "display_data"
    },
    {
     "data": {
      "text/plain": [
       "{\n",
       "  \"success\": true,\n",
       "  \"result\": {\n",
       "    \"element_count\": 4325,\n",
       "    \"unexpected_count\": 0,\n",
       "    \"unexpected_percent\": 0.0,\n",
       "    \"partial_unexpected_list\": [],\n",
       "    \"missing_count\": 0,\n",
       "    \"missing_percent\": 0.0,\n",
       "    \"unexpected_percent_total\": 0.0,\n",
       "    \"unexpected_percent_nonmissing\": 0.0\n",
       "  },\n",
       "  \"meta\": {},\n",
       "  \"exception_info\": {\n",
       "    \"raised_exception\": false,\n",
       "    \"exception_traceback\": null,\n",
       "    \"exception_message\": null\n",
       "  }\n",
       "}"
      ]
     },
     "execution_count": 10,
     "metadata": {},
     "output_type": "execute_result"
    }
   ],
   "source": [
    "# Expectation 3 : Column `price_per_unit` must be less than $INR 100\n",
    "\n",
    "validator.expect_column_values_to_be_between(\n",
    "    column='price_per_unit', min_value=0, max_value=100\n",
    ")"
   ]
  },
  {
   "cell_type": "markdown",
   "metadata": {},
   "source": [
    "### Expectations to be in Set"
   ]
  },
  {
   "cell_type": "code",
   "execution_count": 11,
   "metadata": {},
   "outputs": [
    {
     "data": {
      "application/vnd.jupyter.widget-view+json": {
       "model_id": "da54dac08ab649d5b03db19d5c68de27",
       "version_major": 2,
       "version_minor": 0
      },
      "text/plain": [
       "Calculating Metrics:   0%|          | 0/8 [00:00<?, ?it/s]"
      ]
     },
     "metadata": {},
     "output_type": "display_data"
    },
    {
     "data": {
      "text/plain": [
       "{\n",
       "  \"success\": true,\n",
       "  \"result\": {\n",
       "    \"element_count\": 4325,\n",
       "    \"unexpected_count\": 0,\n",
       "    \"unexpected_percent\": 0.0,\n",
       "    \"partial_unexpected_list\": [],\n",
       "    \"missing_count\": 0,\n",
       "    \"missing_percent\": 0.0,\n",
       "    \"unexpected_percent_total\": 0.0,\n",
       "    \"unexpected_percent_nonmissing\": 0.0\n",
       "  },\n",
       "  \"meta\": {},\n",
       "  \"exception_info\": {\n",
       "    \"raised_exception\": false,\n",
       "    \"exception_traceback\": null,\n",
       "    \"exception_message\": null\n",
       "  }\n",
       "}"
      ]
     },
     "execution_count": 11,
     "metadata": {},
     "output_type": "execute_result"
    }
   ],
   "source": [
    "# Expectation 4 : Column `product_id` must contain one of the following 10 things :\n",
    "# 1 = Milk\n",
    "# 2 = Butter\n",
    "# 3 = Cheese\n",
    "# 4 = Yogurt\n",
    "# 5 = Ice Cream\n",
    "# 6 = Curd\n",
    "# 7 = Lassi\n",
    "# 8 = Buttermilk\n",
    "# 9 = Paneer\n",
    "# 10 = Ghee\n",
    "\n",
    "validator.expect_column_values_to_be_in_set('product_id', [1,2,3,4,5,6,7,8,9,10])"
   ]
  },
  {
   "cell_type": "markdown",
   "metadata": {},
   "source": [
    "### Expectations to be in type list"
   ]
  },
  {
   "cell_type": "code",
   "execution_count": 12,
   "metadata": {},
   "outputs": [
    {
     "data": {
      "application/vnd.jupyter.widget-view+json": {
       "model_id": "b91ec0f2fa8444a19ef610493387f9a4",
       "version_major": 2,
       "version_minor": 0
      },
      "text/plain": [
       "Calculating Metrics:   0%|          | 0/1 [00:00<?, ?it/s]"
      ]
     },
     "metadata": {},
     "output_type": "display_data"
    },
    {
     "data": {
      "text/plain": [
       "{\n",
       "  \"success\": true,\n",
       "  \"result\": {\n",
       "    \"observed_value\": \"float64\"\n",
       "  },\n",
       "  \"meta\": {},\n",
       "  \"exception_info\": {\n",
       "    \"raised_exception\": false,\n",
       "    \"exception_traceback\": null,\n",
       "    \"exception_message\": null\n",
       "  }\n",
       "}"
      ]
     },
     "execution_count": 12,
     "metadata": {},
     "output_type": "execute_result"
    }
   ],
   "source": [
    "# Expectation 5 : Column `quantity_(liters/kg)` must in form of integer or float\n",
    "\n",
    "validator.expect_column_values_to_be_in_type_list('quantity_(liters/kg)', ['integer', 'float'])"
   ]
  },
  {
   "cell_type": "markdown",
   "metadata": {},
   "source": [
    "### Expectations the number of rows to be between"
   ]
  },
  {
   "cell_type": "code",
   "execution_count": 13,
   "metadata": {},
   "outputs": [
    {
     "data": {
      "application/vnd.jupyter.widget-view+json": {
       "model_id": "37e6439aeee749f3aed053e9533db580",
       "version_major": 2,
       "version_minor": 0
      },
      "text/plain": [
       "Calculating Metrics:   0%|          | 0/1 [00:00<?, ?it/s]"
      ]
     },
     "metadata": {},
     "output_type": "display_data"
    },
    {
     "data": {
      "text/plain": [
       "{\n",
       "  \"success\": true,\n",
       "  \"result\": {\n",
       "    \"observed_value\": 4325\n",
       "  },\n",
       "  \"meta\": {},\n",
       "  \"exception_info\": {\n",
       "    \"raised_exception\": false,\n",
       "    \"exception_traceback\": null,\n",
       "    \"exception_message\": null\n",
       "  }\n",
       "}"
      ]
     },
     "execution_count": 13,
     "metadata": {},
     "output_type": "execute_result"
    }
   ],
   "source": [
    "# Expectation 6 : Table row must be below 5000\n",
    "\n",
    "validator.expect_table_row_count_to_be_between(min_value=1, max_value=5000)"
   ]
  },
  {
   "cell_type": "markdown",
   "metadata": {},
   "source": [
    "### Expectations of the unique value count"
   ]
  },
  {
   "cell_type": "code",
   "execution_count": 14,
   "metadata": {},
   "outputs": [
    {
     "data": {
      "application/vnd.jupyter.widget-view+json": {
       "model_id": "331fb2d4875c48cca67608d60ca33423",
       "version_major": 2,
       "version_minor": 0
      },
      "text/plain": [
       "Calculating Metrics:   0%|          | 0/4 [00:00<?, ?it/s]"
      ]
     },
     "metadata": {},
     "output_type": "display_data"
    },
    {
     "data": {
      "text/plain": [
       "{\n",
       "  \"success\": true,\n",
       "  \"result\": {\n",
       "    \"observed_value\": 10\n",
       "  },\n",
       "  \"meta\": {},\n",
       "  \"exception_info\": {\n",
       "    \"raised_exception\": false,\n",
       "    \"exception_traceback\": null,\n",
       "    \"exception_message\": null\n",
       "  }\n",
       "}"
      ]
     },
     "execution_count": 14,
     "metadata": {},
     "output_type": "execute_result"
    }
   ],
   "source": [
    "# Expectation 7 : column `product_name` unique count must be 10\n",
    "\n",
    "validator.expect_column_unique_value_count_to_be_between(column='product_name', min_value=1,max_value=10)"
   ]
  },
  {
   "cell_type": "code",
   "execution_count": 17,
   "metadata": {},
   "outputs": [],
   "source": [
    "# Save into Expectation Suite\n",
    "\n",
    "validator.save_expectation_suite(discard_failed_expectations=False)"
   ]
  },
  {
   "cell_type": "markdown",
   "metadata": {},
   "source": [
    "## Checkpoints"
   ]
  },
  {
   "cell_type": "markdown",
   "metadata": {},
   "source": [
    "A `Checkpoint` is the primary means for validating data in a production deployment of Great Expectations.\n",
    "\n",
    "`Checkpoints` provide a convenient abstraction for **bundling the Validation of a Batch (or Batches) of data against an Expectation Suite (or several)**, as well as the Actions that should be taken after the validation."
   ]
  },
  {
   "cell_type": "code",
   "execution_count": 18,
   "metadata": {},
   "outputs": [],
   "source": [
    "# Create a checkpoint\n",
    "\n",
    "checkpoint_1 = context.add_or_update_checkpoint(\n",
    "    name = 'checkpoint_1',\n",
    "    validator = validator,\n",
    ")"
   ]
  },
  {
   "cell_type": "code",
   "execution_count": 19,
   "metadata": {},
   "outputs": [
    {
     "data": {
      "application/vnd.jupyter.widget-view+json": {
       "model_id": "c6d94651ab8045be982a666ee717df1f",
       "version_major": 2,
       "version_minor": 0
      },
      "text/plain": [
       "Calculating Metrics:   0%|          | 0/30 [00:00<?, ?it/s]"
      ]
     },
     "metadata": {},
     "output_type": "display_data"
    }
   ],
   "source": [
    "# Run a checkpoint\n",
    "\n",
    "checkpoint_result = checkpoint_1.run()"
   ]
  },
  {
   "cell_type": "markdown",
   "metadata": {},
   "source": [
    "## Data Docs"
   ]
  },
  {
   "cell_type": "markdown",
   "metadata": {},
   "source": [
    "`Data Docs` translate `Expectations`, `Validation Results`, and other metadata into human-readable documentation. Automatically compiling your data documentation from your data tests in the form of `Data Docs`. **Data Docs are rendered as HTML files.** As such, you can open them with any browser"
   ]
  },
  {
   "cell_type": "code",
   "execution_count": 20,
   "metadata": {},
   "outputs": [
    {
     "data": {
      "text/plain": [
       "{'local_site': 'file:///Users/Heru/HCK18/Phase 2/GXMile/TestAirFlow/gx/uncommitted/data_docs/local_site/index.html'}"
      ]
     },
     "execution_count": 20,
     "metadata": {},
     "output_type": "execute_result"
    }
   ],
   "source": [
    "# Build data docs\n",
    "\n",
    "context.build_data_docs()"
   ]
  }
 ],
 "metadata": {
  "kernelspec": {
   "display_name": "phase1",
   "language": "python",
   "name": "python3"
  },
  "language_info": {
   "codemirror_mode": {
    "name": "ipython",
    "version": 3
   },
   "file_extension": ".py",
   "mimetype": "text/x-python",
   "name": "python",
   "nbconvert_exporter": "python",
   "pygments_lexer": "ipython3",
   "version": "3.10.14"
  }
 },
 "nbformat": 4,
 "nbformat_minor": 2
}
